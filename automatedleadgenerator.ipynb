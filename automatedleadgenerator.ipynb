{
 "cells": [
  {
   "cell_type": "markdown",
   "metadata": {},
   "source": [
    "# Automated Lead Generator"
   ]
  },
  {
   "cell_type": "markdown",
   "metadata": {},
   "source": [
    "These are the packages used to make the whole thing work. Off the top of my head\n",
    "I believe you have to pip install selenium, pip install beautiful soup, pip install pandas,\n",
    "and I believe the rest is already in the default python package arrangement."
   ]
  },
  {
   "cell_type": "code",
   "execution_count": 35,
   "metadata": {},
   "outputs": [],
   "source": [
    "import time\n",
    "from selenium import webdriver\n",
    "from selenium.webdriver.common.by import By\n",
    "from selenium.webdriver.support.ui import WebDriverWait\n",
    "from selenium.webdriver.support import expected_conditions as EC\n",
    "from selenium.webdriver.common.keys import Keys\n",
    "import requests\n",
    "from bs4 import BeautifulSoup\n",
    "import pandas as pd \n",
    "import numpy as np "
   ]
  },
  {
   "cell_type": "markdown",
   "metadata": {},
   "source": [
    "This allows the dataframe that's displayed to not shorten the strings so that you can see every letter of type."
   ]
  },
  {
   "cell_type": "code",
   "execution_count": 43,
   "metadata": {},
   "outputs": [],
   "source": [
    "pd.set_option('display.max_columns', None)  \n",
    "pd.set_option('display.expand_frame_repr', False)\n",
    "pd.set_option('max_colwidth', -1)"
   ]
  },
  {
   "cell_type": "markdown",
   "metadata": {},
   "source": [
    "# # First"
   ]
  },
  {
   "cell_type": "markdown",
   "metadata": {},
   "source": [
    "User must run this code below in order to put together a list of names he wants to run through the code. No need\n",
    "to add anything other than the first and last name. It will ask for the number of doctors first. Then firstname and then lastname over and over until the number of doctors first input is reached."
   ]
  },
  {
   "cell_type": "code",
   "execution_count": 46,
   "metadata": {},
   "outputs": [
    {
     "name": "stdout",
     "output_type": "stream",
     "text": [
      "Enter number of doctors: 12\n",
      "Enter first name: Brian\n",
      "Enter last name: Shiple\n",
      "Enter first name: Qaisar\n",
      "Enter last name: Shah\n",
      "Enter first name: Galina\n",
      "Enter last name: Simkin\n",
      "Enter first name: Adam\n",
      "Enter last name: Simmons\n",
      "Enter first name: Gloria\n",
      "Enter last name: Simms\n",
      "Enter first name: Virginia\n",
      "Enter last name: Simnad\n",
      "Enter first name: Christopher\n",
      "Enter last name: Simon\n",
      "Enter first name: Alexander\n",
      "Enter last name: Venizelos\n",
      "Enter first name: Ming\n",
      "Enter last name: Wang\n",
      "Enter first name: Ayse\n",
      "Enter last name: Turan\n",
      "Enter first name: Omar\n",
      "Enter last name: Turk\n",
      "Enter first name: Scott\n",
      "Enter last name: Turner\n",
      "Brian Shiple no\n",
      "Qaisar Shah no\n",
      "Galina Simkin no\n",
      "Adam Simmons no\n",
      "Gloria Simms no\n",
      "Virginia Simnad no\n",
      "Christopher Simon no\n",
      "Alexander Venizelos no\n",
      "Ming Wang no\n",
      "Ayse Turan no\n",
      "Omar Turk no\n",
      "Scott Turner no\n"
     ]
    }
   ],
   "source": [
    "# creating an empty list \n",
    "firstnamelist = [] \n",
    "lastnamelist = []\n",
    "tpsearchlist = []\n",
    "  \n",
    "# number of elemetns as input \n",
    "n = int(input(\"Enter number of doctors: \")) \n",
    "  \n",
    "# iterating till the range \n",
    "for i in range(0, n): \n",
    "    firstname = str(input(\"Enter first name: \"))\n",
    "    lastname = str(input(\"Enter last name: \"))\n",
    "    tpsearched = \"no\"\n",
    "    tpsearchlist.append(tpsearched)\n",
    "  \n",
    "    firstnamelist.append(firstname) # adding the element \n",
    "    lastnamelist.append(lastname) # adding the element\n",
    "      \n",
    "for i,j,k in zip(firstnamelist,lastnamelist,tpsearchlist):\n",
    "    print(f\"{i} {j} {k}\")"
   ]
  },
  {
   "cell_type": "code",
   "execution_count": 88,
   "metadata": {},
   "outputs": [],
   "source": [
    "doximityurllist = []\n",
    "healthgradesurllist = []\n",
    "middleinitiallist = []\n",
    "statelist = []\n",
    "certificationlistoflists = []\n",
    "doctoragelist = []\n",
    "doctorphonenumberslistoflists = []\n",
    "\n",
    "\n",
    "secondsrest = 1\n",
    "#This code uses the doctors name in google searches \n",
    "#to grab the first result when searching alongside a certain website we want\n",
    "browser = webdriver.Chrome()\n",
    "url = \"http://www.google.com\"\n",
    "\n",
    "for firstname,lastname in zip(firstnamelist,lastnamelist):\n",
    "    \n",
    "    #In this portion we are grabbing the results from doximity\n",
    "    #First we\n",
    "    browser.get(url)\n",
    "    searchform = browser.find_element_by_name(\"q\")\n",
    "    searchform.send_keys(f\"Dr {firstname} {lastname} Doximity\")\n",
    "    searchform.submit()\n",
    "    time.sleep(secondsrest)\n",
    "    \n",
    "    try:\n",
    "        try:\n",
    "            firstlinkdoximity = browser.find_element_by_xpath(f\"//a[contains(.,'doximity') and contains(.,'{firstname}{lastname}')]\")\n",
    "        except:\n",
    "            firstlinkdoximity = browser.find_element_by_xpath(f\"//a[contains(.,'doximity') or contains(.,'{firstname}') or contains(.,'{lastname}')]\")\n",
    "        hrefdoximity = firstlinkdoximity.get_attribute(\"href\")\n",
    "        doximityurllist.append(hrefdoximity)\n",
    "        #Next we want to grab the middle initial if we can get it and save that for \n",
    "        #True people search later. We will save this href as a bs4 object.\n",
    "        ####THIS CODE GRABS THE Middle Initial and State\n",
    "        page = requests.get(hrefdoximity)\n",
    "        soup = BeautifulSoup(page.content, 'html.parser')\n",
    "        middleinitialelement = soup.find(\"span\", {\"class\":\"user-name-middle\"})\n",
    "        middleinitialtext = middleinitialelement.text\n",
    "        #where the list is being appended\n",
    "        middleinitiallist.append(middleinitialtext)\n",
    "\n",
    "\n",
    "        stateelement = soup.find(\"span\", {\"itemprop\":\"addressRegion\"})\n",
    "        statetext = stateelement.text\n",
    "        #where the list is being appended\n",
    "        statelist.append(statetext)\n",
    "        ####THIS CODE GRABS THE CERTIFICATION LIST\n",
    "\n",
    "        certificationsection = soup.find(\"section\", {\"class\":\"section certification-info\"})\n",
    "        certificationlist = certificationsection.find_all(\"strong\")\n",
    "        #This removes the heading\n",
    "        certificationlistfixed = certificationlist[1:]\n",
    "        certificationlisttext = []\n",
    "        for item in certificationlistfixed:\n",
    "            certificationlisttext.append(item.text)    \n",
    "        #where the list is being appended to a greater list\n",
    "        certificationlistoflists.append(certificationlisttext)\n",
    "        \n",
    "    except:\n",
    "        middleinitialtext = \"none\"\n",
    "        statetext = \"none\"\n",
    "        certificationlisttext = \"none\"\n",
    "        middleinitiallist.append(middleinitialtext)\n",
    "        statelist.append(statetext)\n",
    "        certificationlistoflists.append(certificationlisttext)\n",
    "    \n",
    "    time.sleep(secondsrest)\n",
    "    \n",
    "    #In this portion we are grabbing the results from healthgrades\n",
    "    \n",
    "    browser.get(url)\n",
    "    searchform = browser.find_element_by_name(\"q\")\n",
    "    if middleinitialtext == \"none\" and statetext == \"none\":\n",
    "        searchform.send_keys(f\"Dr {firstname} {lastname} Healthgrades\")\n",
    "        searchform.submit()   \n",
    "    elif middleinitialtext == \"none\":\n",
    "        searchform.send_keys(f\"Dr {firstname} {lastname} Healthgrades {statetext}\")\n",
    "        searchform.submit() \n",
    "    elif statetext == \"none\":\n",
    "        searchform.send_keys(f\"Dr {firstname} {middleinitialtext} {lastname} Healthgrades\")\n",
    "        searchform.submit() \n",
    "    else:\n",
    "        searchform.send_keys(f\"Dr {firstname} {middleinitialtext} {lastname} Healthgrades {statetext}\")\n",
    "        searchform.submit()\n",
    "    time.sleep(secondsrest)\n",
    "    try:\n",
    "        firstlinkhealthgrades = browser.find_element_by_xpath(f\"//a[contains(.,'healthgrades') and contains(.,'{lastname}')]\")\n",
    "        hrefhealthgrades = firstlinkhealthgrades.get_attribute(\"href\")\n",
    "        healthgradesurllist.append(hrefhealthgrades)\n",
    "        ####THIS CODE GRABS THE age and locations\n",
    "        page = requests.get(hrefhealthgrades)\n",
    "        soup = BeautifulSoup(page.content, 'html.parser')\n",
    "        doctorageelement = soup.find(\"span\", {\"data-qa-target\":\"ProviderDisplayAge\"})\n",
    "        doctoragetext = doctorageelement.text[-2:]\n",
    "        #Where the item is being appended to a list\n",
    "        doctoragelist.append(doctoragetext)\n",
    "        \n",
    "    except:\n",
    "        hrefhealthgrades = \"none\"\n",
    "        healthgradesurllist.append(hrefhealthgrades)\n",
    "        doctoragelist.append(\"none\")\n",
    "    \n",
    "    time.sleep(secondsrest)\n",
    "    \n",
    "browser.close()"
   ]
  },
  {
   "cell_type": "code",
   "execution_count": 89,
   "metadata": {},
   "outputs": [
    {
     "data": {
      "text/plain": [
       "{'firstname': ['Brian',\n",
       "  'Qaisar',\n",
       "  'Galina',\n",
       "  'Adam',\n",
       "  'Gloria',\n",
       "  'Virginia',\n",
       "  'Christopher',\n",
       "  'Alexander',\n",
       "  'Ming',\n",
       "  'Ayse',\n",
       "  'Omar',\n",
       "  'Scott'],\n",
       " 'lastname': ['Shiple',\n",
       "  'Shah',\n",
       "  'Simkin',\n",
       "  'Simmons',\n",
       "  'Simms',\n",
       "  'Simnad',\n",
       "  'Simon',\n",
       "  'Venizelos',\n",
       "  'Wang',\n",
       "  'Turan',\n",
       "  'Turk',\n",
       "  'Turner'],\n",
       " 'doximityurl': ['https://www.doximity.com/pub/brian-shiple-do',\n",
       "  'https://www.doximity.com/cv/qaisar-shah-md-1',\n",
       "  'https://www.doximity.com/pub/galina-simkin-md',\n",
       "  'https://www.doximity.com/pub/adam-simmons-md',\n",
       "  'https://www.doximity.com/pub/gloria-simms-md',\n",
       "  'https://www.doximity.com/pub/virginia-simnad-md',\n",
       "  'https://www.doximity.com/pub/christopher-simon-md',\n",
       "  'https://www.doximity.com/pub/alexander-venizelos-md',\n",
       "  'https://www.doximity.com/pub/ming-wang-md-0686af52',\n",
       "  'https://www.doximity.com/pub/ayse-turan-md',\n",
       "  'https://www.doximity.com/pub/omar-turk-md',\n",
       "  'https://www.doximity.com/pub/scott-turner-md-314b4f76'],\n",
       " 'healthgradesurl': ['https://www.healthgrades.com/physician/dr-brian-j-shiple-yjmvm',\n",
       "  'https://www.healthgrades.com/physician/dr-qaisar-shah-x6xmm',\n",
       "  'https://www.healthgrades.com/physician/dr-galina-simkin-xw8n9',\n",
       "  'https://www.healthgrades.com/physician/dr-adam-simmons-3dmrd',\n",
       "  'https://www.healthgrades.com/physician/dr-gloria-simms-gcpbn',\n",
       "  'https://www.healthgrades.com/physician/dr-virginia-simnad-2xkyj',\n",
       "  'https://www.healthgrades.com/physician/dr-christopher-simon-xcm76',\n",
       "  'https://www.healthgrades.com/physician/dr-alexander-venizelos-xf7fm',\n",
       "  'https://www.healthgrades.com/physician/dr-ming-wang-yl8xh',\n",
       "  'none',\n",
       "  'none',\n",
       "  'https://www.healthgrades.com/physician/dr-scott-turner-yb97y'],\n",
       " 'middleinitial': ['J',\n",
       "  'A',\n",
       "  'B',\n",
       "  'D',\n",
       "  'Patricia',\n",
       "  'I',\n",
       "  'P',\n",
       "  'P',\n",
       "  'none',\n",
       "  'none',\n",
       "  'Amin',\n",
       "  'George'],\n",
       " 'state': ['PA',\n",
       "  'PA',\n",
       "  'IL',\n",
       "  'MA',\n",
       "  'TX',\n",
       "  'WA',\n",
       "  'IL',\n",
       "  'OH',\n",
       "  'none',\n",
       "  'none',\n",
       "  'MI',\n",
       "  'MO'],\n",
       " 'certifications': [['LA State License',\n",
       "   'DE State License',\n",
       "   'PA State License'],\n",
       "  ['NY State Medical License',\n",
       "   'GA State Medical License',\n",
       "   'FL State Medical License',\n",
       "   'NJ State Medical License',\n",
       "   'PA State Medical License',\n",
       "   'American Board of Psychiatry and Neurology'],\n",
       "  ['OH State Medical License',\n",
       "   'WI State Medical License',\n",
       "   'FL State Medical License',\n",
       "   'NH State Medical License',\n",
       "   'IL State Medical License',\n",
       "   'American Board of Psychiatry and Neurology'],\n",
       "  ['CT State Medical License',\n",
       "   'MA State Medical License',\n",
       "   'American Board of Psychiatry and Neurology'],\n",
       "  ['TX State Medical License',\n",
       "   'KY State Medical License',\n",
       "   'ME State Medical License',\n",
       "   'AL State Medical License',\n",
       "   'WI State Medical License',\n",
       "   'IA State Medical License',\n",
       "   'MN State Medical License',\n",
       "   'American Board of Psychiatry and Neurology'],\n",
       "  ['WA State Medical License',\n",
       "   'VA State Medical License',\n",
       "   'American Board of Psychiatry and Neurology'],\n",
       "  ['IL State Medical License',\n",
       "   'American Board of Psychiatry and Neurology',\n",
       "   'American Board of Psychiatry and Neurology'],\n",
       "  ['OH State Medical License',\n",
       "   'TX State Medical License',\n",
       "   'IL State Medical License',\n",
       "   'American Board of Psychiatry and Neurology'],\n",
       "  'none',\n",
       "  'none',\n",
       "  ['MI State Medical License', 'American Board of Psychiatry and Neurology'],\n",
       "  ['KS State Medical License',\n",
       "   'CO State Medical License',\n",
       "   'MO State Medical License',\n",
       "   'PA State Medical License',\n",
       "   'American Board of Psychiatry and Neurology']],\n",
       " 'age': ['60',\n",
       "  '44',\n",
       "  '60',\n",
       "  '46',\n",
       "  '45',\n",
       "  '59',\n",
       "  '47',\n",
       "  '38',\n",
       "  '58',\n",
       "  'none',\n",
       "  'none',\n",
       "  '57'],\n",
       " 'phone numbers': [],\n",
       " 'tpsearched?': ['yes',\n",
       "  'yes',\n",
       "  'yes',\n",
       "  'yes',\n",
       "  'yes',\n",
       "  'yes',\n",
       "  'yes',\n",
       "  'yes',\n",
       "  'yes',\n",
       "  'yes',\n",
       "  'no',\n",
       "  'no']}"
      ]
     },
     "execution_count": 89,
     "metadata": {},
     "output_type": "execute_result"
    }
   ],
   "source": [
    "DoctorDataDictionary = {'firstname':firstnamelist,\n",
    "                        'lastname':lastnamelist,\n",
    "                        'doximityurl':doximityurllist,\n",
    "                        'healthgradesurl':healthgradesurllist,\n",
    "                        'middleinitial':middleinitiallist,\n",
    "                        'state':statelist,\n",
    "                        'certifications':certificationlistoflists,\n",
    "                        'age': doctoragelist,\n",
    "                        'phone numbers': doctorphonenumberslistoflists,\n",
    "                        'tpsearched?': tpsearchlist}\n",
    "DoctorDataDictionary"
   ]
  },
  {
   "cell_type": "code",
   "execution_count": 90,
   "metadata": {},
   "outputs": [
    {
     "data": {
      "text/html": [
       "<div>\n",
       "<style scoped>\n",
       "    .dataframe tbody tr th:only-of-type {\n",
       "        vertical-align: middle;\n",
       "    }\n",
       "\n",
       "    .dataframe tbody tr th {\n",
       "        vertical-align: top;\n",
       "    }\n",
       "\n",
       "    .dataframe thead th {\n",
       "        text-align: right;\n",
       "    }\n",
       "</style>\n",
       "<table border=\"1\" class=\"dataframe\">\n",
       "  <thead>\n",
       "    <tr style=\"text-align: right;\">\n",
       "      <th></th>\n",
       "      <th>firstname</th>\n",
       "      <th>lastname</th>\n",
       "      <th>doximityurl</th>\n",
       "      <th>healthgradesurl</th>\n",
       "      <th>middleinitial</th>\n",
       "      <th>state</th>\n",
       "      <th>certifications</th>\n",
       "      <th>age</th>\n",
       "      <th>phone numbers</th>\n",
       "      <th>tpsearched?</th>\n",
       "    </tr>\n",
       "  </thead>\n",
       "  <tbody>\n",
       "    <tr>\n",
       "      <th>0</th>\n",
       "      <td>Brian</td>\n",
       "      <td>Shiple</td>\n",
       "      <td>https://www.doximity.com/pub/brian-shiple-do</td>\n",
       "      <td>https://www.healthgrades.com/physician/dr-brian-j-shiple-yjmvm</td>\n",
       "      <td>J</td>\n",
       "      <td>PA</td>\n",
       "      <td>[LA State License, DE State License, PA State License]</td>\n",
       "      <td>60</td>\n",
       "      <td>None</td>\n",
       "      <td>yes</td>\n",
       "    </tr>\n",
       "    <tr>\n",
       "      <th>1</th>\n",
       "      <td>Qaisar</td>\n",
       "      <td>Shah</td>\n",
       "      <td>https://www.doximity.com/cv/qaisar-shah-md-1</td>\n",
       "      <td>https://www.healthgrades.com/physician/dr-qaisar-shah-x6xmm</td>\n",
       "      <td>A</td>\n",
       "      <td>PA</td>\n",
       "      <td>[NY State Medical License, GA State Medical License, FL State Medical License, NJ State Medical License, PA State Medical License, American Board of Psychiatry and Neurology]</td>\n",
       "      <td>44</td>\n",
       "      <td>None</td>\n",
       "      <td>yes</td>\n",
       "    </tr>\n",
       "    <tr>\n",
       "      <th>2</th>\n",
       "      <td>Galina</td>\n",
       "      <td>Simkin</td>\n",
       "      <td>https://www.doximity.com/pub/galina-simkin-md</td>\n",
       "      <td>https://www.healthgrades.com/physician/dr-galina-simkin-xw8n9</td>\n",
       "      <td>B</td>\n",
       "      <td>IL</td>\n",
       "      <td>[OH State Medical License, WI State Medical License, FL State Medical License, NH State Medical License, IL State Medical License, American Board of Psychiatry and Neurology]</td>\n",
       "      <td>60</td>\n",
       "      <td>None</td>\n",
       "      <td>yes</td>\n",
       "    </tr>\n",
       "    <tr>\n",
       "      <th>3</th>\n",
       "      <td>Adam</td>\n",
       "      <td>Simmons</td>\n",
       "      <td>https://www.doximity.com/pub/adam-simmons-md</td>\n",
       "      <td>https://www.healthgrades.com/physician/dr-adam-simmons-3dmrd</td>\n",
       "      <td>D</td>\n",
       "      <td>MA</td>\n",
       "      <td>[CT State Medical License, MA State Medical License, American Board of Psychiatry and Neurology]</td>\n",
       "      <td>46</td>\n",
       "      <td>None</td>\n",
       "      <td>yes</td>\n",
       "    </tr>\n",
       "    <tr>\n",
       "      <th>4</th>\n",
       "      <td>Gloria</td>\n",
       "      <td>Simms</td>\n",
       "      <td>https://www.doximity.com/pub/gloria-simms-md</td>\n",
       "      <td>https://www.healthgrades.com/physician/dr-gloria-simms-gcpbn</td>\n",
       "      <td>Patricia</td>\n",
       "      <td>TX</td>\n",
       "      <td>[TX State Medical License, KY State Medical License, ME State Medical License, AL State Medical License, WI State Medical License, IA State Medical License, MN State Medical License, American Board of Psychiatry and Neurology]</td>\n",
       "      <td>45</td>\n",
       "      <td>None</td>\n",
       "      <td>yes</td>\n",
       "    </tr>\n",
       "    <tr>\n",
       "      <th>5</th>\n",
       "      <td>Virginia</td>\n",
       "      <td>Simnad</td>\n",
       "      <td>https://www.doximity.com/pub/virginia-simnad-md</td>\n",
       "      <td>https://www.healthgrades.com/physician/dr-virginia-simnad-2xkyj</td>\n",
       "      <td>I</td>\n",
       "      <td>WA</td>\n",
       "      <td>[WA State Medical License, VA State Medical License, American Board of Psychiatry and Neurology]</td>\n",
       "      <td>59</td>\n",
       "      <td>None</td>\n",
       "      <td>yes</td>\n",
       "    </tr>\n",
       "    <tr>\n",
       "      <th>6</th>\n",
       "      <td>Christopher</td>\n",
       "      <td>Simon</td>\n",
       "      <td>https://www.doximity.com/pub/christopher-simon-md</td>\n",
       "      <td>https://www.healthgrades.com/physician/dr-christopher-simon-xcm76</td>\n",
       "      <td>P</td>\n",
       "      <td>IL</td>\n",
       "      <td>[IL State Medical License, American Board of Psychiatry and Neurology, American Board of Psychiatry and Neurology]</td>\n",
       "      <td>47</td>\n",
       "      <td>None</td>\n",
       "      <td>yes</td>\n",
       "    </tr>\n",
       "    <tr>\n",
       "      <th>7</th>\n",
       "      <td>Alexander</td>\n",
       "      <td>Venizelos</td>\n",
       "      <td>https://www.doximity.com/pub/alexander-venizelos-md</td>\n",
       "      <td>https://www.healthgrades.com/physician/dr-alexander-venizelos-xf7fm</td>\n",
       "      <td>P</td>\n",
       "      <td>OH</td>\n",
       "      <td>[OH State Medical License, TX State Medical License, IL State Medical License, American Board of Psychiatry and Neurology]</td>\n",
       "      <td>38</td>\n",
       "      <td>None</td>\n",
       "      <td>yes</td>\n",
       "    </tr>\n",
       "    <tr>\n",
       "      <th>8</th>\n",
       "      <td>Ming</td>\n",
       "      <td>Wang</td>\n",
       "      <td>https://www.doximity.com/pub/ming-wang-md-0686af52</td>\n",
       "      <td>https://www.healthgrades.com/physician/dr-ming-wang-yl8xh</td>\n",
       "      <td>none</td>\n",
       "      <td>none</td>\n",
       "      <td>none</td>\n",
       "      <td>58</td>\n",
       "      <td>None</td>\n",
       "      <td>yes</td>\n",
       "    </tr>\n",
       "    <tr>\n",
       "      <th>9</th>\n",
       "      <td>Ayse</td>\n",
       "      <td>Turan</td>\n",
       "      <td>https://www.doximity.com/pub/ayse-turan-md</td>\n",
       "      <td>none</td>\n",
       "      <td>none</td>\n",
       "      <td>none</td>\n",
       "      <td>none</td>\n",
       "      <td>none</td>\n",
       "      <td>None</td>\n",
       "      <td>yes</td>\n",
       "    </tr>\n",
       "    <tr>\n",
       "      <th>10</th>\n",
       "      <td>Omar</td>\n",
       "      <td>Turk</td>\n",
       "      <td>https://www.doximity.com/pub/omar-turk-md</td>\n",
       "      <td>none</td>\n",
       "      <td>Amin</td>\n",
       "      <td>MI</td>\n",
       "      <td>[MI State Medical License, American Board of Psychiatry and Neurology]</td>\n",
       "      <td>none</td>\n",
       "      <td>None</td>\n",
       "      <td>no</td>\n",
       "    </tr>\n",
       "    <tr>\n",
       "      <th>11</th>\n",
       "      <td>Scott</td>\n",
       "      <td>Turner</td>\n",
       "      <td>https://www.doximity.com/pub/scott-turner-md-314b4f76</td>\n",
       "      <td>https://www.healthgrades.com/physician/dr-scott-turner-yb97y</td>\n",
       "      <td>George</td>\n",
       "      <td>MO</td>\n",
       "      <td>[KS State Medical License, CO State Medical License, MO State Medical License, PA State Medical License, American Board of Psychiatry and Neurology]</td>\n",
       "      <td>57</td>\n",
       "      <td>None</td>\n",
       "      <td>no</td>\n",
       "    </tr>\n",
       "  </tbody>\n",
       "</table>\n",
       "</div>"
      ],
      "text/plain": [
       "      firstname   lastname                                            doximityurl                                                      healthgradesurl middleinitial state                                                                                                                                                                                                                      certifications   age phone numbers tpsearched?\n",
       "0   Brian        Shiple     https://www.doximity.com/pub/brian-shiple-do           https://www.healthgrades.com/physician/dr-brian-j-shiple-yjmvm       J             PA    [LA State License, DE State License, PA State License]                                                                                                                                                                              60    None          yes       \n",
       "1   Qaisar       Shah       https://www.doximity.com/cv/qaisar-shah-md-1           https://www.healthgrades.com/physician/dr-qaisar-shah-x6xmm          A             PA    [NY State Medical License, GA State Medical License, FL State Medical License, NJ State Medical License, PA State Medical License, American Board of Psychiatry and Neurology]                                                      44    None          yes       \n",
       "2   Galina       Simkin     https://www.doximity.com/pub/galina-simkin-md          https://www.healthgrades.com/physician/dr-galina-simkin-xw8n9        B             IL    [OH State Medical License, WI State Medical License, FL State Medical License, NH State Medical License, IL State Medical License, American Board of Psychiatry and Neurology]                                                      60    None          yes       \n",
       "3   Adam         Simmons    https://www.doximity.com/pub/adam-simmons-md           https://www.healthgrades.com/physician/dr-adam-simmons-3dmrd         D             MA    [CT State Medical License, MA State Medical License, American Board of Psychiatry and Neurology]                                                                                                                                    46    None          yes       \n",
       "4   Gloria       Simms      https://www.doximity.com/pub/gloria-simms-md           https://www.healthgrades.com/physician/dr-gloria-simms-gcpbn         Patricia      TX    [TX State Medical License, KY State Medical License, ME State Medical License, AL State Medical License, WI State Medical License, IA State Medical License, MN State Medical License, American Board of Psychiatry and Neurology]  45    None          yes       \n",
       "5   Virginia     Simnad     https://www.doximity.com/pub/virginia-simnad-md        https://www.healthgrades.com/physician/dr-virginia-simnad-2xkyj      I             WA    [WA State Medical License, VA State Medical License, American Board of Psychiatry and Neurology]                                                                                                                                    59    None          yes       \n",
       "6   Christopher  Simon      https://www.doximity.com/pub/christopher-simon-md      https://www.healthgrades.com/physician/dr-christopher-simon-xcm76    P             IL    [IL State Medical License, American Board of Psychiatry and Neurology, American Board of Psychiatry and Neurology]                                                                                                                  47    None          yes       \n",
       "7   Alexander    Venizelos  https://www.doximity.com/pub/alexander-venizelos-md    https://www.healthgrades.com/physician/dr-alexander-venizelos-xf7fm  P             OH    [OH State Medical License, TX State Medical License, IL State Medical License, American Board of Psychiatry and Neurology]                                                                                                          38    None          yes       \n",
       "8   Ming         Wang       https://www.doximity.com/pub/ming-wang-md-0686af52     https://www.healthgrades.com/physician/dr-ming-wang-yl8xh            none          none  none                                                                                                                                                                                                                                58    None          yes       \n",
       "9   Ayse         Turan      https://www.doximity.com/pub/ayse-turan-md             none                                                                 none          none  none                                                                                                                                                                                                                                none  None          yes       \n",
       "10  Omar         Turk       https://www.doximity.com/pub/omar-turk-md              none                                                                 Amin          MI    [MI State Medical License, American Board of Psychiatry and Neurology]                                                                                                                                                              none  None          no        \n",
       "11  Scott        Turner     https://www.doximity.com/pub/scott-turner-md-314b4f76  https://www.healthgrades.com/physician/dr-scott-turner-yb97y         George        MO    [KS State Medical License, CO State Medical License, MO State Medical License, PA State Medical License, American Board of Psychiatry and Neurology]                                                                                57    None          no        "
      ]
     },
     "execution_count": 90,
     "metadata": {},
     "output_type": "execute_result"
    }
   ],
   "source": [
    "df=pd.DataFrame.from_dict(DoctorDataDictionary,orient='index').transpose()\n",
    "df"
   ]
  },
  {
   "cell_type": "code",
   "execution_count": 67,
   "metadata": {},
   "outputs": [
    {
     "data": {
      "text/plain": [
       "'no'"
      ]
     },
     "execution_count": 67,
     "metadata": {},
     "output_type": "execute_result"
    }
   ],
   "source": [
    "tpsearchlist[0] = 'no'\n",
    "tpsearchlist[0]"
   ]
  },
  {
   "cell_type": "code",
   "execution_count": 83,
   "metadata": {},
   "outputs": [
    {
     "name": "stdout",
     "output_type": "stream",
     "text": [
      "Omar Turk MI no\n",
      "Scott Turner MO no\n"
     ]
    }
   ],
   "source": [
    "for firstname,lastname,statetext,tpsearchstatus in zip(firstnamelist,lastnamelist, statelist, tpsearchlist):\n",
    "    if tpsearchstatus == \"no\":\n",
    "            print(f\"{firstname} {lastname} {statetext} {tpsearchstatus}\")"
   ]
  },
  {
   "cell_type": "code",
   "execution_count": 91,
   "metadata": {},
   "outputs": [
    {
     "ename": "NoSuchElementException",
     "evalue": "Message: no such element: Unable to locate element: {\"method\":\"xpath\",\"selector\":\"//*[@id=\"Name\"]\"}\n  (Session info: chrome=77.0.3865.90)\n",
     "output_type": "error",
     "traceback": [
      "\u001b[0;31m---------------------------------------------------------------------------\u001b[0m",
      "\u001b[0;31mNoSuchElementException\u001b[0m                    Traceback (most recent call last)",
      "\u001b[0;32m<ipython-input-91-fdb2b9870608>\u001b[0m in \u001b[0;36m<module>\u001b[0;34m\u001b[0m\n\u001b[1;32m     35\u001b[0m             \u001b[0;31m#this should have an includes text xpath for more accurate selection. Right now it only takes the first result.\u001b[0m\u001b[0;34m\u001b[0m\u001b[0;34m\u001b[0m\u001b[0;34m\u001b[0m\u001b[0m\n\u001b[0;32m---> 36\u001b[0;31m             \u001b[0mbrowser\u001b[0m\u001b[0;34m.\u001b[0m\u001b[0mfind_element_by_xpath\u001b[0m\u001b[0;34m(\u001b[0m\u001b[0;34m'/html/body/div[2]/div/div[2]/div[4]/div[1]/div[2]/a'\u001b[0m\u001b[0;34m)\u001b[0m\u001b[0;34m.\u001b[0m\u001b[0mclick\u001b[0m\u001b[0;34m(\u001b[0m\u001b[0;34m)\u001b[0m\u001b[0;34m\u001b[0m\u001b[0;34m\u001b[0m\u001b[0m\n\u001b[0m\u001b[1;32m     37\u001b[0m             \u001b[0;32mtry\u001b[0m\u001b[0;34m:\u001b[0m\u001b[0;34m\u001b[0m\u001b[0;34m\u001b[0m\u001b[0m\n",
      "\u001b[0;32m~/anaconda3/lib/python3.7/site-packages/selenium/webdriver/remote/webdriver.py\u001b[0m in \u001b[0;36mfind_element_by_xpath\u001b[0;34m(self, xpath)\u001b[0m\n\u001b[1;32m    393\u001b[0m         \"\"\"\n\u001b[0;32m--> 394\u001b[0;31m         \u001b[0;32mreturn\u001b[0m \u001b[0mself\u001b[0m\u001b[0;34m.\u001b[0m\u001b[0mfind_element\u001b[0m\u001b[0;34m(\u001b[0m\u001b[0mby\u001b[0m\u001b[0;34m=\u001b[0m\u001b[0mBy\u001b[0m\u001b[0;34m.\u001b[0m\u001b[0mXPATH\u001b[0m\u001b[0;34m,\u001b[0m \u001b[0mvalue\u001b[0m\u001b[0;34m=\u001b[0m\u001b[0mxpath\u001b[0m\u001b[0;34m)\u001b[0m\u001b[0;34m\u001b[0m\u001b[0;34m\u001b[0m\u001b[0m\n\u001b[0m\u001b[1;32m    395\u001b[0m \u001b[0;34m\u001b[0m\u001b[0m\n",
      "\u001b[0;32m~/anaconda3/lib/python3.7/site-packages/selenium/webdriver/remote/webdriver.py\u001b[0m in \u001b[0;36mfind_element\u001b[0;34m(self, by, value)\u001b[0m\n\u001b[1;32m    977\u001b[0m             \u001b[0;34m'using'\u001b[0m\u001b[0;34m:\u001b[0m \u001b[0mby\u001b[0m\u001b[0;34m,\u001b[0m\u001b[0;34m\u001b[0m\u001b[0;34m\u001b[0m\u001b[0m\n\u001b[0;32m--> 978\u001b[0;31m             'value': value})['value']\n\u001b[0m\u001b[1;32m    979\u001b[0m \u001b[0;34m\u001b[0m\u001b[0m\n",
      "\u001b[0;32m~/anaconda3/lib/python3.7/site-packages/selenium/webdriver/remote/webdriver.py\u001b[0m in \u001b[0;36mexecute\u001b[0;34m(self, driver_command, params)\u001b[0m\n\u001b[1;32m    320\u001b[0m         \u001b[0;32mif\u001b[0m \u001b[0mresponse\u001b[0m\u001b[0;34m:\u001b[0m\u001b[0;34m\u001b[0m\u001b[0;34m\u001b[0m\u001b[0m\n\u001b[0;32m--> 321\u001b[0;31m             \u001b[0mself\u001b[0m\u001b[0;34m.\u001b[0m\u001b[0merror_handler\u001b[0m\u001b[0;34m.\u001b[0m\u001b[0mcheck_response\u001b[0m\u001b[0;34m(\u001b[0m\u001b[0mresponse\u001b[0m\u001b[0;34m)\u001b[0m\u001b[0;34m\u001b[0m\u001b[0;34m\u001b[0m\u001b[0m\n\u001b[0m\u001b[1;32m    322\u001b[0m             response['value'] = self._unwrap_value(\n",
      "\u001b[0;32m~/anaconda3/lib/python3.7/site-packages/selenium/webdriver/remote/errorhandler.py\u001b[0m in \u001b[0;36mcheck_response\u001b[0;34m(self, response)\u001b[0m\n\u001b[1;32m    241\u001b[0m             \u001b[0;32mraise\u001b[0m \u001b[0mexception_class\u001b[0m\u001b[0;34m(\u001b[0m\u001b[0mmessage\u001b[0m\u001b[0;34m,\u001b[0m \u001b[0mscreen\u001b[0m\u001b[0;34m,\u001b[0m \u001b[0mstacktrace\u001b[0m\u001b[0;34m,\u001b[0m \u001b[0malert_text\u001b[0m\u001b[0;34m)\u001b[0m\u001b[0;34m\u001b[0m\u001b[0;34m\u001b[0m\u001b[0m\n\u001b[0;32m--> 242\u001b[0;31m         \u001b[0;32mraise\u001b[0m \u001b[0mexception_class\u001b[0m\u001b[0;34m(\u001b[0m\u001b[0mmessage\u001b[0m\u001b[0;34m,\u001b[0m \u001b[0mscreen\u001b[0m\u001b[0;34m,\u001b[0m \u001b[0mstacktrace\u001b[0m\u001b[0;34m)\u001b[0m\u001b[0;34m\u001b[0m\u001b[0;34m\u001b[0m\u001b[0m\n\u001b[0m\u001b[1;32m    243\u001b[0m \u001b[0;34m\u001b[0m\u001b[0m\n",
      "\u001b[0;31mNoSuchElementException\u001b[0m: Message: no such element: Unable to locate element: {\"method\":\"xpath\",\"selector\":\"/html/body/div[2]/div/div[2]/div[4]/div[1]/div[2]/a\"}\n  (Session info: chrome=77.0.3865.90)\n",
      "\nDuring handling of the above exception, another exception occurred:\n",
      "\u001b[0;31mNoSuchElementException\u001b[0m                    Traceback (most recent call last)",
      "\u001b[0;32m<ipython-input-91-fdb2b9870608>\u001b[0m in \u001b[0;36m<module>\u001b[0;34m\u001b[0m\n\u001b[1;32m     52\u001b[0m             \u001b[0mdoctorphonenumberslistoflists\u001b[0m\u001b[0;34m.\u001b[0m\u001b[0mappend\u001b[0m\u001b[0;34m(\u001b[0m\u001b[0mphonelisttext\u001b[0m\u001b[0;34m)\u001b[0m\u001b[0;34m\u001b[0m\u001b[0;34m\u001b[0m\u001b[0m\n\u001b[1;32m     53\u001b[0m         \u001b[0;32mexcept\u001b[0m\u001b[0;34m:\u001b[0m\u001b[0;34m\u001b[0m\u001b[0;34m\u001b[0m\u001b[0m\n\u001b[0;32m---> 54\u001b[0;31m             \u001b[0mbrowser\u001b[0m\u001b[0;34m.\u001b[0m\u001b[0mfind_element_by_xpath\u001b[0m\u001b[0;34m(\u001b[0m\u001b[0;34m'//*[@id=\"Name\"]'\u001b[0m\u001b[0;34m)\u001b[0m\u001b[0;34m.\u001b[0m\u001b[0mclear\u001b[0m\u001b[0;34m(\u001b[0m\u001b[0;34m)\u001b[0m\u001b[0;34m\u001b[0m\u001b[0;34m\u001b[0m\u001b[0m\n\u001b[0m\u001b[1;32m     55\u001b[0m             \u001b[0mbrowser\u001b[0m\u001b[0;34m.\u001b[0m\u001b[0mfind_element_by_xpath\u001b[0m\u001b[0;34m(\u001b[0m\u001b[0;34m'//*[@id=\"CityStateZip\"]'\u001b[0m\u001b[0;34m)\u001b[0m\u001b[0;34m.\u001b[0m\u001b[0mclear\u001b[0m\u001b[0;34m(\u001b[0m\u001b[0;34m)\u001b[0m\u001b[0;34m\u001b[0m\u001b[0;34m\u001b[0m\u001b[0m\n\u001b[1;32m     56\u001b[0m             \u001b[0mtpsearchstatus\u001b[0m \u001b[0;34m=\u001b[0m \u001b[0;34m\"yes\"\u001b[0m\u001b[0;34m\u001b[0m\u001b[0;34m\u001b[0m\u001b[0m\n",
      "\u001b[0;32m~/anaconda3/lib/python3.7/site-packages/selenium/webdriver/remote/webdriver.py\u001b[0m in \u001b[0;36mfind_element_by_xpath\u001b[0;34m(self, xpath)\u001b[0m\n\u001b[1;32m    392\u001b[0m             \u001b[0melement\u001b[0m \u001b[0;34m=\u001b[0m \u001b[0mdriver\u001b[0m\u001b[0;34m.\u001b[0m\u001b[0mfind_element_by_xpath\u001b[0m\u001b[0;34m(\u001b[0m\u001b[0;34m'//div/td[1]'\u001b[0m\u001b[0;34m)\u001b[0m\u001b[0;34m\u001b[0m\u001b[0;34m\u001b[0m\u001b[0m\n\u001b[1;32m    393\u001b[0m         \"\"\"\n\u001b[0;32m--> 394\u001b[0;31m         \u001b[0;32mreturn\u001b[0m \u001b[0mself\u001b[0m\u001b[0;34m.\u001b[0m\u001b[0mfind_element\u001b[0m\u001b[0;34m(\u001b[0m\u001b[0mby\u001b[0m\u001b[0;34m=\u001b[0m\u001b[0mBy\u001b[0m\u001b[0;34m.\u001b[0m\u001b[0mXPATH\u001b[0m\u001b[0;34m,\u001b[0m \u001b[0mvalue\u001b[0m\u001b[0;34m=\u001b[0m\u001b[0mxpath\u001b[0m\u001b[0;34m)\u001b[0m\u001b[0;34m\u001b[0m\u001b[0;34m\u001b[0m\u001b[0m\n\u001b[0m\u001b[1;32m    395\u001b[0m \u001b[0;34m\u001b[0m\u001b[0m\n\u001b[1;32m    396\u001b[0m     \u001b[0;32mdef\u001b[0m \u001b[0mfind_elements_by_xpath\u001b[0m\u001b[0;34m(\u001b[0m\u001b[0mself\u001b[0m\u001b[0;34m,\u001b[0m \u001b[0mxpath\u001b[0m\u001b[0;34m)\u001b[0m\u001b[0;34m:\u001b[0m\u001b[0;34m\u001b[0m\u001b[0;34m\u001b[0m\u001b[0m\n",
      "\u001b[0;32m~/anaconda3/lib/python3.7/site-packages/selenium/webdriver/remote/webdriver.py\u001b[0m in \u001b[0;36mfind_element\u001b[0;34m(self, by, value)\u001b[0m\n\u001b[1;32m    976\u001b[0m         return self.execute(Command.FIND_ELEMENT, {\n\u001b[1;32m    977\u001b[0m             \u001b[0;34m'using'\u001b[0m\u001b[0;34m:\u001b[0m \u001b[0mby\u001b[0m\u001b[0;34m,\u001b[0m\u001b[0;34m\u001b[0m\u001b[0;34m\u001b[0m\u001b[0m\n\u001b[0;32m--> 978\u001b[0;31m             'value': value})['value']\n\u001b[0m\u001b[1;32m    979\u001b[0m \u001b[0;34m\u001b[0m\u001b[0m\n\u001b[1;32m    980\u001b[0m     \u001b[0;32mdef\u001b[0m \u001b[0mfind_elements\u001b[0m\u001b[0;34m(\u001b[0m\u001b[0mself\u001b[0m\u001b[0;34m,\u001b[0m \u001b[0mby\u001b[0m\u001b[0;34m=\u001b[0m\u001b[0mBy\u001b[0m\u001b[0;34m.\u001b[0m\u001b[0mID\u001b[0m\u001b[0;34m,\u001b[0m \u001b[0mvalue\u001b[0m\u001b[0;34m=\u001b[0m\u001b[0;32mNone\u001b[0m\u001b[0;34m)\u001b[0m\u001b[0;34m:\u001b[0m\u001b[0;34m\u001b[0m\u001b[0;34m\u001b[0m\u001b[0m\n",
      "\u001b[0;32m~/anaconda3/lib/python3.7/site-packages/selenium/webdriver/remote/webdriver.py\u001b[0m in \u001b[0;36mexecute\u001b[0;34m(self, driver_command, params)\u001b[0m\n\u001b[1;32m    319\u001b[0m         \u001b[0mresponse\u001b[0m \u001b[0;34m=\u001b[0m \u001b[0mself\u001b[0m\u001b[0;34m.\u001b[0m\u001b[0mcommand_executor\u001b[0m\u001b[0;34m.\u001b[0m\u001b[0mexecute\u001b[0m\u001b[0;34m(\u001b[0m\u001b[0mdriver_command\u001b[0m\u001b[0;34m,\u001b[0m \u001b[0mparams\u001b[0m\u001b[0;34m)\u001b[0m\u001b[0;34m\u001b[0m\u001b[0;34m\u001b[0m\u001b[0m\n\u001b[1;32m    320\u001b[0m         \u001b[0;32mif\u001b[0m \u001b[0mresponse\u001b[0m\u001b[0;34m:\u001b[0m\u001b[0;34m\u001b[0m\u001b[0;34m\u001b[0m\u001b[0m\n\u001b[0;32m--> 321\u001b[0;31m             \u001b[0mself\u001b[0m\u001b[0;34m.\u001b[0m\u001b[0merror_handler\u001b[0m\u001b[0;34m.\u001b[0m\u001b[0mcheck_response\u001b[0m\u001b[0;34m(\u001b[0m\u001b[0mresponse\u001b[0m\u001b[0;34m)\u001b[0m\u001b[0;34m\u001b[0m\u001b[0;34m\u001b[0m\u001b[0m\n\u001b[0m\u001b[1;32m    322\u001b[0m             response['value'] = self._unwrap_value(\n\u001b[1;32m    323\u001b[0m                 response.get('value', None))\n",
      "\u001b[0;32m~/anaconda3/lib/python3.7/site-packages/selenium/webdriver/remote/errorhandler.py\u001b[0m in \u001b[0;36mcheck_response\u001b[0;34m(self, response)\u001b[0m\n\u001b[1;32m    240\u001b[0m                 \u001b[0malert_text\u001b[0m \u001b[0;34m=\u001b[0m \u001b[0mvalue\u001b[0m\u001b[0;34m[\u001b[0m\u001b[0;34m'alert'\u001b[0m\u001b[0;34m]\u001b[0m\u001b[0;34m.\u001b[0m\u001b[0mget\u001b[0m\u001b[0;34m(\u001b[0m\u001b[0;34m'text'\u001b[0m\u001b[0;34m)\u001b[0m\u001b[0;34m\u001b[0m\u001b[0;34m\u001b[0m\u001b[0m\n\u001b[1;32m    241\u001b[0m             \u001b[0;32mraise\u001b[0m \u001b[0mexception_class\u001b[0m\u001b[0;34m(\u001b[0m\u001b[0mmessage\u001b[0m\u001b[0;34m,\u001b[0m \u001b[0mscreen\u001b[0m\u001b[0;34m,\u001b[0m \u001b[0mstacktrace\u001b[0m\u001b[0;34m,\u001b[0m \u001b[0malert_text\u001b[0m\u001b[0;34m)\u001b[0m\u001b[0;34m\u001b[0m\u001b[0;34m\u001b[0m\u001b[0m\n\u001b[0;32m--> 242\u001b[0;31m         \u001b[0;32mraise\u001b[0m \u001b[0mexception_class\u001b[0m\u001b[0;34m(\u001b[0m\u001b[0mmessage\u001b[0m\u001b[0;34m,\u001b[0m \u001b[0mscreen\u001b[0m\u001b[0;34m,\u001b[0m \u001b[0mstacktrace\u001b[0m\u001b[0;34m)\u001b[0m\u001b[0;34m\u001b[0m\u001b[0;34m\u001b[0m\u001b[0m\n\u001b[0m\u001b[1;32m    243\u001b[0m \u001b[0;34m\u001b[0m\u001b[0m\n\u001b[1;32m    244\u001b[0m     \u001b[0;32mdef\u001b[0m \u001b[0m_value_or_default\u001b[0m\u001b[0;34m(\u001b[0m\u001b[0mself\u001b[0m\u001b[0;34m,\u001b[0m \u001b[0mobj\u001b[0m\u001b[0;34m,\u001b[0m \u001b[0mkey\u001b[0m\u001b[0;34m,\u001b[0m \u001b[0mdefault\u001b[0m\u001b[0;34m)\u001b[0m\u001b[0;34m:\u001b[0m\u001b[0;34m\u001b[0m\u001b[0;34m\u001b[0m\u001b[0m\n",
      "\u001b[0;31mNoSuchElementException\u001b[0m: Message: no such element: Unable to locate element: {\"method\":\"xpath\",\"selector\":\"//*[@id=\"Name\"]\"}\n  (Session info: chrome=77.0.3865.90)\n"
     ]
    }
   ],
   "source": [
    "secondsrest = 1\n",
    "#This code uses the doctors name in google searches \n",
    "#to grab the first result when searching alongside a certain website we want\n",
    "browser = webdriver.Chrome()\n",
    "url = \"http://www.google.com\"\n",
    "\n",
    "#In this portion we are grabbing the results from truepeoplesearch\n",
    "#THIS IS WHERE WE WANT TO SEPERATE FROM THE LOOP SO WE DONT\n",
    "#GET STUCK ON CAPTCHAs from rehitting the sight. The plan is to use the searchbarwithin the site\n",
    "#once we're inside it and loop through the names from there\n",
    "browser.get(url)\n",
    "searchform = browser.find_element_by_name(\"q\")\n",
    "searchform.send_keys(\"True People Search\")\n",
    "searchform.submit()\n",
    "time.sleep(secondsrest)\n",
    "browser.find_element_by_xpath('//*[@id=\"rso\"]/div[1]/div/div/div/div/div[1]/a').click()\n",
    "\n",
    "#We are now inside the site and safe to loop through the names from here\n",
    "   \n",
    "\n",
    "for doctorname,statetext,tpsearchstatus in zip(doctorlist, statelist, tpsearchlist):\n",
    "  \n",
    "    if tpsearchstatus == 'yes':\n",
    "        searchname = browser.find_element_by_xpath('//*[@id=\"Name\"]')\n",
    "        searchname.send_keys(f\"{doctorname}\")\n",
    "        searchstate = browser.find_element_by_xpath('//*[@id=\"CityStateZip\"]')\n",
    "        if statetext == \"none\":\n",
    "            searchname.submit()\n",
    "        else:\n",
    "            searchstate.send_keys(f\"{statetext}\")\n",
    "            searchname.submit()\n",
    "        time.sleep(secondsrest)\n",
    "        #This clicks first result\n",
    "        try: \n",
    "            #this should have an includes text xpath for more accurate selection. Right now it only takes the first result.\n",
    "            browser.find_element_by_xpath('/html/body/div[2]/div/div[2]/div[4]/div[1]/div[2]/a').click()\n",
    "            try:\n",
    "                #This clicks for more phones\n",
    "                browser.find_element_by_xpath('//*[@id=\"divMorePhones\"]/div/button').click()\n",
    "            except:\n",
    "                pass\n",
    "\n",
    "            hreftruepeoplesearch = browser.current_url\n",
    "            #This code grabs the phone numbers from truepeoplesearch\n",
    "            page = requests.get(hreftruepeoplesearch)\n",
    "            soup = BeautifulSoup(page.content, 'html.parser')\n",
    "            phoneelements = soup.find_all(\"a\", {\"data-link-to-more\":\"phone\"})\n",
    "            phonelisttext = []\n",
    "            for item in phoneelements:\n",
    "                phonelisttext.append(item.text)    \n",
    "            #where the list is being appended to an even greater list\n",
    "            doctorphonenumberslistoflists.append(phonelisttext)\n",
    "        except:\n",
    "            browser.find_element_by_xpath('//*[@id=\"Name\"]').clear()\n",
    "            browser.find_element_by_xpath('//*[@id=\"CityStateZip\"]').clear()\n",
    "            tpsearchstatus = \"yes\"\n",
    "\n",
    "        browser.find_element_by_xpath('//*[@id=\"Name\"]').clear()\n",
    "        browser.find_element_by_xpath('//*[@id=\"CityStateZip\"]').clear()\n",
    "        \n",
    "        time.sleep(secondsrest)\n",
    "    else:\n",
    "        deletethis = \"none\"\n",
    "\n",
    "browser.close()\n",
    "\n"
   ]
  },
  {
   "cell_type": "code",
   "execution_count": 5,
   "metadata": {},
   "outputs": [
    {
     "name": "stdout",
     "output_type": "stream",
     "text": [
      "Qaisar Shah and PA\n",
      "Adam Simmons and MA\n",
      "Gloria Simms and TX\n",
      "Virginia Simnad and WA\n",
      "Christopher Simon and IL\n",
      "Alexander Venizelos and OH\n",
      "Ming Wang and none\n",
      "Ayse Turan and none\n",
      "Omar Turk and MI\n",
      "Scott Turner and MO\n",
      "Brian Shiple and PA\n"
     ]
    }
   ],
   "source": [
    "for doctorname, statetext in zip(doctorlist, statelist):\n",
    "    print(f\"{doctorname} and {statetext}\")\n",
    "  "
   ]
  },
  {
   "cell_type": "code",
   "execution_count": 55,
   "metadata": {},
   "outputs": [
    {
     "data": {
      "text/plain": [
       "{'doctorname': ['Qaisar Shah',\n",
       "  'Adam Simmons',\n",
       "  'Gloria Simms',\n",
       "  'Virginia Simnad',\n",
       "  'Christopher Simon',\n",
       "  'Alexander Venizelos',\n",
       "  'Ming Wang',\n",
       "  'Ayse Turan',\n",
       "  'Omar Turk',\n",
       "  'Scott Turner',\n",
       "  'Brian Shiple'],\n",
       " 'middleinitial': ['J',\n",
       "  'A',\n",
       "  'B',\n",
       "  'D',\n",
       "  'Patricia',\n",
       "  'I',\n",
       "  'P',\n",
       "  'P',\n",
       "  'none',\n",
       "  'none',\n",
       "  'Amin',\n",
       "  'George'],\n",
       " 'state': ['PA',\n",
       "  'PA',\n",
       "  'IL',\n",
       "  'MA',\n",
       "  'TX',\n",
       "  'WA',\n",
       "  'IL',\n",
       "  'OH',\n",
       "  'none',\n",
       "  'none',\n",
       "  'MI',\n",
       "  'MO'],\n",
       " 'certifications': [['LA State License',\n",
       "   'DE State License',\n",
       "   'PA State License'],\n",
       "  ['NY State Medical License',\n",
       "   'GA State Medical License',\n",
       "   'FL State Medical License',\n",
       "   'NJ State Medical License',\n",
       "   'PA State Medical License',\n",
       "   'American Board of Psychiatry and Neurology'],\n",
       "  ['OH State Medical License',\n",
       "   'WI State Medical License',\n",
       "   'FL State Medical License',\n",
       "   'NH State Medical License',\n",
       "   'IL State Medical License',\n",
       "   'American Board of Psychiatry and Neurology'],\n",
       "  ['CT State Medical License',\n",
       "   'MA State Medical License',\n",
       "   'American Board of Psychiatry and Neurology'],\n",
       "  ['TX State Medical License',\n",
       "   'KY State Medical License',\n",
       "   'ME State Medical License',\n",
       "   'AL State Medical License',\n",
       "   'WI State Medical License',\n",
       "   'IA State Medical License',\n",
       "   'MN State Medical License',\n",
       "   'American Board of Psychiatry and Neurology'],\n",
       "  ['WA State Medical License',\n",
       "   'VA State Medical License',\n",
       "   'American Board of Psychiatry and Neurology'],\n",
       "  ['IL State Medical License',\n",
       "   'American Board of Psychiatry and Neurology',\n",
       "   'American Board of Psychiatry and Neurology'],\n",
       "  ['OH State Medical License',\n",
       "   'TX State Medical License',\n",
       "   'IL State Medical License',\n",
       "   'American Board of Psychiatry and Neurology'],\n",
       "  'none',\n",
       "  'none',\n",
       "  ['MI State Medical License', 'American Board of Psychiatry and Neurology'],\n",
       "  ['KS State Medical License',\n",
       "   'CO State Medical License',\n",
       "   'MO State Medical License',\n",
       "   'PA State Medical License',\n",
       "   'American Board of Psychiatry and Neurology']],\n",
       " 'age': ['60',\n",
       "  '44',\n",
       "  '60',\n",
       "  '46',\n",
       "  '45',\n",
       "  '59',\n",
       "  '47',\n",
       "  '38',\n",
       "  '58',\n",
       "  'none',\n",
       "  'none',\n",
       "  '57'],\n",
       " 'phone numbers': [['(215) 860-2401',\n",
       "   '(267) 722-8480',\n",
       "   '(603) 443-9646',\n",
       "   '(215) 385-4578',\n",
       "   '(603) 767-6090',\n",
       "   '(718) 591-8505'],\n",
       "  ['(814) 427-6006',\n",
       "   '(814) 881-2688',\n",
       "   '(814) 427-2591',\n",
       "   '(814) 427-2180',\n",
       "   '(814) 459-3946'],\n",
       "  ['(309) 231-8628', '(309) 453-8757', '(309) 674-8691', '(309) 673-3851'],\n",
       "  ['(425) 481-4880',\n",
       "   '(425) 820-2430',\n",
       "   '(775) 301-6848',\n",
       "   '(425) 820-0000',\n",
       "   '(434) 970-1764',\n",
       "   '(801) 467-8583',\n",
       "   '(804) 970-1764',\n",
       "   '(919) 942-8488'],\n",
       "  ['(954) 927-4159',\n",
       "   '(305) 490-5159',\n",
       "   '(754) 217-3147',\n",
       "   '(954) 292-2283',\n",
       "   '(786) 395-9125',\n",
       "   '(305) 767-9500',\n",
       "   '(954) 225-5472',\n",
       "   '(954) 342-9940',\n",
       "   '(305) 931-5666',\n",
       "   '(305) 792-6962',\n",
       "   '(352) 751-7623'],\n",
       "  ['(216) 470-9000', '(216) 221-7122', '(773) 698-6670']]}"
      ]
     },
     "execution_count": 55,
     "metadata": {},
     "output_type": "execute_result"
    }
   ],
   "source": [
    "DoctorDataDictionary = {'doctorname':doctorlist,\n",
    "                        'middleinitial':middleinitiallist,\n",
    "                        'state':statelist,\n",
    "                        'certifications':certificationlistoflists,\n",
    "                        'age': doctoragelist,\n",
    "                        'phone numbers': doctorphonenumberslistoflists}\n",
    "DoctorDataDictionary"
   ]
  },
  {
   "cell_type": "code",
   "execution_count": 43,
   "metadata": {},
   "outputs": [
    {
     "data": {
      "text/plain": [
       "'60'"
      ]
     },
     "execution_count": 43,
     "metadata": {},
     "output_type": "execute_result"
    }
   ],
   "source": [
    "page = requests.get(\"https://www.healthgrades.com/physician/dr-galina-simkin-xw8n9\")\n",
    "soup = BeautifulSoup(page.content, 'html.parser')\n",
    "doctorageelement = soup.find(\"span\", {\"data-qa-target\":\"ProviderDisplayAge\"})\n",
    "doctoragetext = doctorageelement.text[-2:]\n",
    "doctoragetext"
   ]
  },
  {
   "cell_type": "code",
   "execution_count": 17,
   "metadata": {},
   "outputs": [
    {
     "data": {
      "text/plain": [
       "['(215) 860-2401',\n",
       " '(267) 722-8480',\n",
       " '(603) 443-9646',\n",
       " '(215) 385-4578',\n",
       " '(603) 767-6090',\n",
       " '(718) 591-8505']"
      ]
     },
     "execution_count": 17,
     "metadata": {},
     "output_type": "execute_result"
    }
   ],
   "source": [
    "page = requests.get()\n",
    "soup = BeautifulSoup(page.content, 'html.parser')\n",
    "phoneelements = soup.find_all(\"a\", {\"data-link-to-more\":\"phone\"})\n",
    "phonelisttext = []\n",
    "for item in phoneelements:\n",
    "    phonelisttext.append(item.text)    \n",
    "phonelisttext"
   ]
  },
  {
   "cell_type": "code",
   "execution_count": 18,
   "metadata": {},
   "outputs": [
    {
     "data": {
      "text/plain": [
       "'PA'"
      ]
     },
     "execution_count": 18,
     "metadata": {},
     "output_type": "execute_result"
    }
   ],
   "source": [
    "page = requests.get(\"https://www.doximity.com/pub/ayse-turan-md\")\n",
    "soup = BeautifulSoup(page.content, 'html.parser')\n",
    "stateelement = soup.find(\"span\", {\"itemprop\":\"addressRegion\"})\n",
    "statetext = stateelement.text\n",
    "statetext"
   ]
  },
  {
   "cell_type": "code",
   "execution_count": 71,
   "metadata": {},
   "outputs": [
    {
     "data": {
      "text/plain": [
       "'https://www.healthgrades.com/physician/dr-qaisar-shah-x6xmm'"
      ]
     },
     "execution_count": 71,
     "metadata": {},
     "output_type": "execute_result"
    }
   ],
   "source": [
    "hrefhealthgrades"
   ]
  },
  {
   "cell_type": "code",
   "execution_count": 60,
   "metadata": {},
   "outputs": [
    {
     "data": {
      "text/plain": [
       "'https://www.doximity.com/cv/qaisar-shah-md-1'"
      ]
     },
     "execution_count": 60,
     "metadata": {},
     "output_type": "execute_result"
    }
   ],
   "source": [
    "hrefdoximity"
   ]
  },
  {
   "cell_type": "code",
   "execution_count": null,
   "metadata": {},
   "outputs": [],
   "source": []
  },
  {
   "cell_type": "code",
   "execution_count": 65,
   "metadata": {},
   "outputs": [
    {
     "data": {
      "text/plain": [
       "'PA'"
      ]
     },
     "execution_count": 65,
     "metadata": {},
     "output_type": "execute_result"
    }
   ],
   "source": [
    "####THIS CODE GRABS THE Middle Initial and State\n",
    "page = requests.get(hrefdoximity)\n",
    "soup = BeautifulSoup(page.content, 'html.parser')\n",
    "middleinitialelement = soup.find(\"span\", {\"class\":\"user-name-middle\"})\n",
    "middleinitialtext = middleinitialelement.text\n",
    "middleinitialtext\n",
    "\n",
    "stateelement = soup.find(\"span\", {\"itemprop\":\"addressRegion\"})\n",
    "statetext = stateelement.text\n",
    "statetext\n",
    "# certlist = certsection.find_all(\"strong\")\n",
    "# certlistfixed = certlist[1:]\n",
    "# certlisttext = []\n",
    "# for item in certlistfixed:\n",
    "#     certlisttext.append(item.text)\n",
    "# certlisttext"
   ]
  },
  {
   "cell_type": "code",
   "execution_count": 66,
   "metadata": {},
   "outputs": [
    {
     "data": {
      "text/plain": [
       "['NY State Medical License',\n",
       " 'GA State Medical License',\n",
       " 'FL State Medical License',\n",
       " 'NJ State Medical License',\n",
       " 'PA State Medical License',\n",
       " 'American Board of Psychiatry and Neurology']"
      ]
     },
     "execution_count": 66,
     "metadata": {},
     "output_type": "execute_result"
    }
   ],
   "source": [
    "####THIS CODE GRABS THE CERTIFICATIONS\n",
    "page = requests.get(hrefdoximity)\n",
    "soup = BeautifulSoup(page.content, 'html.parser')\n",
    "certsection = soup.find(\"section\", {\"class\":\"section certification-info\"})\n",
    "\n",
    "certlist = certsection.find_all(\"strong\")\n",
    "certlistfixed = certlist[1:]\n",
    "certlisttext = []\n",
    "for item in certlistfixed:\n",
    "    certlisttext.append(item.text)\n",
    "certlisttext"
   ]
  },
  {
   "cell_type": "code",
   "execution_count": 18,
   "metadata": {},
   "outputs": [
    {
     "data": {
      "text/plain": [
       "[<strong itemprop=\"name\">U Minnesota</strong>,\n",
       " <strong itemprop=\"name\">U Penn</strong>,\n",
       " <strong itemprop=\"name\">Dartmouth-Hitchcock Medical Center</strong>,\n",
       " <strong itemprop=\"name\">Flushing Hospital Medical Center</strong>,\n",
       " <strong itemprop=\"name\">Dow University of Health Sciences</strong>,\n",
       " <strong>NY State Medical License</strong>,\n",
       " <strong>GA State Medical License</strong>,\n",
       " <strong>FL State Medical License</strong>,\n",
       " <strong>NJ State Medical License</strong>,\n",
       " <strong>PA State Medical License</strong>,\n",
       " <strong>American Board of Psychiatry and Neurology</strong>,\n",
       " <strong itemprop=\"award\">Top Doctors</strong>,\n",
       " <strong itemprop=\"award\">CMS Meaningful Use Stage 1 Certification</strong>,\n",
       " <strong itemprop=\"award\">Super Doctor</strong>,\n",
       " <strong><a href=\"http://clinicaltrials.gov/ct2/show/NCT02034058\">Post Market Surveillance Study of the Wingspan Stent System</a></strong>,\n",
       " <strong><a href=\"http://clinicaltrials.gov/ct2/show/NCT02040259\">Trevo® Retriever Registry Post Market Surveillance</a></strong>,\n",
       " <strong><a href=\"http://clinicaltrials.gov/ct2/show/NCT01748903\">TARGET Intracranial Aneurysm Coiling Registry: A Prospective Clinical Efficacy and Safety Study of Stryker Target® 360° and Target® 2D Coils</a></strong>,\n",
       " <strong><a href=\"http://clinicaltrials.gov/ct2/show/NCT01584609\">A Randomized, Concurrent Controlled Trial to Assess the Safety and Effectiveness of the Separator 3D as a Component of the Penumbra System in the Revascularization of Large Vessel Occlusion in Acute Ischemic Stroke</a></strong>,\n",
       " <strong><a href=\"http://clinicaltrials.gov/ct2/show/NCT01429350\">Assess the Penumbra System in the Treatment of Acute Stroke</a></strong>,\n",
       " <strong><a href=\"http://clinicaltrials.gov/ct2/show/NCT01270867\">Randomized Trial Evaluating Performance of the Trevo Retriever Versus the Merci Retriever in Acute Ischemic Stroke</a></strong>,\n",
       " <strong><a href=\"http://clinicaltrials.gov/ct2/show/NCT01176565\">Antihypertensive Treatment in Acute Cerebral Hemorrhage-II (ATACH-II)</a></strong>,\n",
       " <strong><a href=\"http://clinicaltrials.gov/ct2/show/NCT01123161\">The Intravascular Cooling in the Treatment of Stroke 2/3 Trial</a></strong>,\n",
       " <strong><a href=\"http://clinicaltrials.gov/ct2/show/NCT00963989\">Imaging Guided Patient Selection for Interventional Revascularization Therapy</a></strong>,\n",
       " <strong><a href=\"http://clinicaltrials.gov/ct2/show/NCT00784134\">Clot Lysis: Evaluating Accelerated Resolution of Intraventricular Hemorrhage Phase III</a></strong>,\n",
       " <strong><a href=\"http://clinicaltrials.gov/ct2/show/NCT00359424\">Interventional Management of Stroke (IMS) III Trial</a></strong>,\n",
       " <strong>4 more in this section...</strong>,\n",
       " <strong><a href=\"https://www.ncbi.nlm.nih.gov/pubmed/31338061\" itemprop=\"sameAs\" target=\"_blank\"><span itemprop=\"name\">TARGETÂ® Intracranial Aneurysm Coiling Prospective Multicenter Registry: Final Analysis of Peri-Procedural and Long-Term Safety and Efficacy Results.</span> </a></strong>,\n",
       " <strong><a href=\"https://www.ncbi.nlm.nih.gov/pubmed/29129157\" itemprop=\"sameAs\" target=\"_blank\"><span itemprop=\"name\">Thrombectomy 6 to 24 Hours after Stroke with a Mismatch between Deficit and Infarct.</span> </a></strong>,\n",
       " <strong><a href=\"https://www.ncbi.nlm.nih.gov/pubmed/28730267\" itemprop=\"sameAs\" target=\"_blank\"><span itemprop=\"name\">Phantom-based standardization of CT angiography images for spot sign detection.</span> </a></strong>,\n",
       " <strong><a href=\"https://www.ncbi.nlm.nih.gov/pubmed/28110890\" itemprop=\"sameAs\" target=\"_blank\"><span itemprop=\"name\">Safety of Endovascular Intervention for Stroke on Therapeutic Anticoagulation: Multicenter Cohort Study and Meta-Analysis.</span> </a></strong>,\n",
       " <strong><a href=\"https://www.ncbi.nlm.nih.gov/pubmed/26539671\" itemprop=\"sameAs\" target=\"_blank\"><span itemprop=\"name\">Pennsylvania comprehensive stroke center collaborative: Statement on the recently updated IV rt-PA prescriber information for acute ischemic stroke.</span> </a></strong>,\n",
       " <strong><a href=\"https://www.ncbi.nlm.nih.gov/pubmed/26060520\" itemprop=\"sameAs\" target=\"_blank\"><span itemprop=\"name\">Stent-Assisted Coil Embolization of a Wide-Neck Aneurysm at the Vertebral Artery Terminus Using a Contralateral Approach: A Technical Report.</span> </a></strong>,\n",
       " <strong><a href=\"https://www.ncbi.nlm.nih.gov/pubmed/25298858\" itemprop=\"sameAs\" target=\"_blank\"><span itemprop=\"name\">Enrollment of research subjects through telemedicine networks in a multicenter acute intracerebral hemorrhage clinical trial: design and methods.</span> </a></strong>,\n",
       " <strong><a href=\"https://www.ncbi.nlm.nih.gov/pubmed/24920991\" itemprop=\"sameAs\" target=\"_blank\"><span itemprop=\"name\">Endovascular treatment for acute ischemic stroke patients: implications and interpretation of IMS III, MR RESCUE, and SYNTHESIS EXPANSION trials: A report from the Wor...</span> </a></strong>,\n",
       " <strong><a href=\"https://www.ncbi.nlm.nih.gov/pubmed/23826435\" itemprop=\"sameAs\" target=\"_blank\"><span itemprop=\"name\">Enrollment of Research Subjects through Telemedicine Networks in a Multicenter Acute Intracerebral Hemorrhage Clinical Trial: Design and Methods.</span> </a></strong>,\n",
       " <strong><a href=\"https://www.ncbi.nlm.nih.gov/pubmed/23826437\" itemprop=\"sameAs\" target=\"_blank\"><span itemprop=\"name\">Reversal of CT hypodensity after acute ischemic stroke.</span> </a></strong>,\n",
       " <strong><a href=\"https://www.ncbi.nlm.nih.gov/pubmed/22518265\" itemprop=\"sameAs\" target=\"_blank\"><span itemprop=\"name\">Clinical outcome of patients with acute posterior circulation stroke and bilateral vertebral artery occlusion.</span> </a></strong>,\n",
       " <strong><a href=\"https://www.ncbi.nlm.nih.gov/pubmed/22250951\" itemprop=\"sameAs\" target=\"_blank\"><span itemprop=\"name\">Intracranial angioplasty and stent placement after stenting and aggressive medical management for preventing recurrent stroke in intracranial stenosis (SAMMPRIS) trial...</span> </a></strong>,\n",
       " <strong><a href=\"https://www.ncbi.nlm.nih.gov/pubmed/21883621\" itemprop=\"sameAs\" target=\"_blank\"><span itemprop=\"name\">Intra-arterial tenecteplase for treatment of acute ischemic stroke: feasibility and comparative outcomes.</span> </a></strong>,\n",
       " <strong><a href=\"https://www.ncbi.nlm.nih.gov/pubmed/19909396\" itemprop=\"sameAs\" target=\"_blank\"><span itemprop=\"name\">Comparison of partial (.6 mg/kg) versus full-dose (.9 mg/kg) intravenous recombinant tissue plasminogen activator followed by endovascular treatment for acute ischemic...</span> </a></strong>,\n",
       " <strong><a href=\"https://www.ncbi.nlm.nih.gov/pubmed/19558580\" itemprop=\"sameAs\" target=\"_blank\"><span itemprop=\"name\">Spontaneous thrombosis of a large vein of galen malformation.</span> </a></strong>,\n",
       " <strong><a href=\"https://www.ncbi.nlm.nih.gov/pubmed/22518244\" itemprop=\"sameAs\" target=\"_blank\"><span itemprop=\"name\">Spontaneous recanalization after complete occlusion of the common carotid artery with subsequent embolic ischemic stroke.</span> </a></strong>,\n",
       " <strong><a href=\"https://www.ncbi.nlm.nih.gov/pubmed/19072307\" itemprop=\"sameAs\" target=\"_blank\"><span itemprop=\"name\">Combined surgical and endovascular approach to treat symptomatic in-stent occlusion of the left common carotid artery origin.</span> </a></strong>,\n",
       " <strong><a href=\"https://www.ncbi.nlm.nih.gov/pubmed/19018952\" itemprop=\"sameAs\" target=\"_blank\"><span itemprop=\"name\">Premorbid use of statins is associated with higher recanalization rates in patients with acute ischemic stroke undergoing endovascular treatment.</span> </a></strong>,\n",
       " <strong><a href=\"https://www.ncbi.nlm.nih.gov/pubmed/22518233\" itemprop=\"sameAs\" target=\"_blank\"><span itemprop=\"name\">Bilateral tri-arterial embolization for the treatment of epistaxis.</span> </a></strong>,\n",
       " <strong><a href=\"https://www.ncbi.nlm.nih.gov/pubmed/18766335\" itemprop=\"sameAs\" target=\"_blank\"><span itemprop=\"name\">Clinical and radiological outcomes of acute ischemic stroke patients without angiographic occlusion on digital subtraction angiogram. A pooled analysis of case series.</span> </a></strong>,\n",
       " <strong><a href=\"https://www.ncbi.nlm.nih.gov/pubmed/18362784\" itemprop=\"sameAs\" target=\"_blank\"><span itemprop=\"name\">Induced hypertension in patients with partial recanalization after intra-arterial thrombolysis for acute ischemic stroke.</span> </a></strong>,\n",
       " <strong><a href=\"https://www.ncbi.nlm.nih.gov/pubmed/18333838\" itemprop=\"sameAs\" target=\"_blank\"><span itemprop=\"name\">Cutting balloon angioplasty for carotid in-stent restenosis: case reports and review of the literature.</span> </a></strong>,\n",
       " <strong><a href=\"https://www.ncbi.nlm.nih.gov/pubmed/17657656\" itemprop=\"sameAs\" target=\"_blank\"><span itemprop=\"name\">Preliminary experience with intra-arterial nicardipine in patients with acute ischemic stroke.</span> </a></strong>,\n",
       " <strong><a href=\"https://www.ncbi.nlm.nih.gov/pubmed/17608915\" itemprop=\"sameAs\" target=\"_blank\"><span itemprop=\"name\">Anomalous origin of the middle meningeal artery from the basilar artery: a case report.</span> </a></strong>,\n",
       " <strong><a href=\"https://www.ncbi.nlm.nih.gov/pubmed/16763186\" itemprop=\"sameAs\" target=\"_blank\"><span itemprop=\"name\">Is the ABCD score useful for risk stratification of patients with acute transient ischemic attack?</span> </a></strong>,\n",
       " <strong>22 more in this section...</strong>,\n",
       " <strong>Update on stroke </strong>,\n",
       " <strong>Acute stroke Management </strong>,\n",
       " <strong>Member,\n",
       " Carotid Artery review committee </strong>,\n",
       " <strong>Member,\n",
       " Invasive Procedure Committee </strong>,\n",
       " <strong>Member,\n",
       " Neurosciences Advisory council </strong>,\n",
       " <strong>member,\n",
       " Stroke committee </strong>,\n",
       " <strong itemprop=\"name\"><a href=\"http://www.aan.com/\" rel=\"nofollow\">American Academy of Neurology - AAN</a></strong>,\n",
       " <strong itemprop=\"name\"><a href=\"http://www.americanheart.org/\" rel=\"nofollow\">American Heart Association - AHA</a></strong>,\n",
       " <strong><a href=\"/directory/hospitals/pa/sellersville/grand-view-health\" title=\"View Grand View Health's directory\"><span itemprop=\"name\">Grand View Health</span></a></strong>,\n",
       " <strong><a href=\"/directory/hospitals/pa/phoenixville/phoenixville-hospital\" title=\"View Phoenixville Hospital's directory\"><span itemprop=\"name\">Phoenixville Hospital</span></a></strong>,\n",
       " <strong><a href=\"/directory/hospitals/pa/bryn+mawr/bryn-mawr-hospital\" title=\"View Bryn Mawr Hospital's directory\"><span itemprop=\"name\">Bryn Mawr Hospital</span></a></strong>,\n",
       " <strong><a href=\"/directory/hospitals/pa/lansdale/abington-lansdale-hospital-jefferson-health\" title=\"View Abington-Lansdale Hospital Jefferson Health's directory\"><span itemprop=\"name\">Abington-Lansdale Hospital Jefferson Health</span></a></strong>,\n",
       " <strong><a href=\"/directory/hospitals/pa/philadelphia/temple-university-hospital\" title=\"View Temple University Hospital's directory\"><span itemprop=\"name\">Temple University Hospital</span></a></strong>,\n",
       " <strong>Viewing the full profile is available to verified healthcare professionals only.</strong>,\n",
       " <strong>Find your profile and take control of your online presence:</strong>]"
      ]
     },
     "execution_count": 18,
     "metadata": {},
     "output_type": "execute_result"
    }
   ],
   "source": [
    "soup.select(\"ul strong\")"
   ]
  },
  {
   "cell_type": "code",
   "execution_count": 24,
   "metadata": {},
   "outputs": [
    {
     "ename": "TypeError",
     "evalue": "'NoneType' object is not callable",
     "output_type": "error",
     "traceback": [
      "\u001b[0;31m---------------------------------------------------------------------------\u001b[0m",
      "\u001b[0;31mTypeError\u001b[0m                                 Traceback (most recent call last)",
      "\u001b[0;32m<ipython-input-24-b23810f197a6>\u001b[0m in \u001b[0;36m<module>\u001b[0;34m\u001b[0m\n\u001b[1;32m      1\u001b[0m \u001b[0msoupcontent\u001b[0m \u001b[0;34m=\u001b[0m \u001b[0msoup\u001b[0m\u001b[0;34m.\u001b[0m\u001b[0mfind_all\u001b[0m\u001b[0;34m(\u001b[0m\u001b[0;34m'section'\u001b[0m\u001b[0;34m,\u001b[0m \u001b[0mclass_\u001b[0m\u001b[0;34m=\u001b[0m\u001b[0;34m'section certification-info'\u001b[0m\u001b[0;34m)\u001b[0m\u001b[0;34m[\u001b[0m\u001b[0;36m0\u001b[0m\u001b[0;34m]\u001b[0m\u001b[0;34m\u001b[0m\u001b[0;34m\u001b[0m\u001b[0m\n\u001b[0;32m----> 2\u001b[0;31m \u001b[0msouptwo\u001b[0m \u001b[0;34m=\u001b[0m \u001b[0mBeautifulSoup\u001b[0m\u001b[0;34m(\u001b[0m\u001b[0msoupcontent\u001b[0m\u001b[0;34m,\u001b[0m \u001b[0;34m'html.parser'\u001b[0m\u001b[0;34m)\u001b[0m\u001b[0;34m\u001b[0m\u001b[0;34m\u001b[0m\u001b[0m\n\u001b[0m\u001b[1;32m      3\u001b[0m \u001b[0mprint\u001b[0m\u001b[0;34m(\u001b[0m\u001b[0msouptwo\u001b[0m\u001b[0;34m.\u001b[0m\u001b[0mprettify\u001b[0m\u001b[0;34m(\u001b[0m\u001b[0;34m)\u001b[0m\u001b[0;34m)\u001b[0m\u001b[0;34m\u001b[0m\u001b[0;34m\u001b[0m\u001b[0m\n",
      "\u001b[0;32m~/anaconda3/lib/python3.7/site-packages/bs4/__init__.py\u001b[0m in \u001b[0;36m__init__\u001b[0;34m(self, markup, features, builder, parse_only, from_encoding, exclude_encodings, **kwargs)\u001b[0m\n\u001b[1;32m    243\u001b[0m \u001b[0;34m\u001b[0m\u001b[0m\n\u001b[1;32m    244\u001b[0m         \u001b[0;32mif\u001b[0m \u001b[0mhasattr\u001b[0m\u001b[0;34m(\u001b[0m\u001b[0mmarkup\u001b[0m\u001b[0;34m,\u001b[0m \u001b[0;34m'read'\u001b[0m\u001b[0;34m)\u001b[0m\u001b[0;34m:\u001b[0m        \u001b[0;31m# It's a file-type object.\u001b[0m\u001b[0;34m\u001b[0m\u001b[0;34m\u001b[0m\u001b[0m\n\u001b[0;32m--> 245\u001b[0;31m             \u001b[0mmarkup\u001b[0m \u001b[0;34m=\u001b[0m \u001b[0mmarkup\u001b[0m\u001b[0;34m.\u001b[0m\u001b[0mread\u001b[0m\u001b[0;34m(\u001b[0m\u001b[0;34m)\u001b[0m\u001b[0;34m\u001b[0m\u001b[0;34m\u001b[0m\u001b[0m\n\u001b[0m\u001b[1;32m    246\u001b[0m         elif len(markup) <= 256 and (\n\u001b[1;32m    247\u001b[0m                 \u001b[0;34m(\u001b[0m\u001b[0misinstance\u001b[0m\u001b[0;34m(\u001b[0m\u001b[0mmarkup\u001b[0m\u001b[0;34m,\u001b[0m \u001b[0mbytes\u001b[0m\u001b[0;34m)\u001b[0m \u001b[0;32mand\u001b[0m \u001b[0;32mnot\u001b[0m \u001b[0;34mb'<'\u001b[0m \u001b[0;32min\u001b[0m \u001b[0mmarkup\u001b[0m\u001b[0;34m)\u001b[0m\u001b[0;34m\u001b[0m\u001b[0;34m\u001b[0m\u001b[0m\n",
      "\u001b[0;31mTypeError\u001b[0m: 'NoneType' object is not callable"
     ]
    }
   ],
   "source": [
    "soupcontent = soup.find_all('section', class_='section certification-info')[0]\n",
    "souptwo = BeautifulSoup(soupcontent, 'html.parser')\n",
    "print(souptwo.prettify())"
   ]
  },
  {
   "cell_type": "code",
   "execution_count": 11,
   "metadata": {},
   "outputs": [
    {
     "data": {
      "text/plain": [
       "'https://www.healthgrades.com/physician/dr-qaisar-shah-x6xmm'"
      ]
     },
     "execution_count": 11,
     "metadata": {},
     "output_type": "execute_result"
    }
   ],
   "source": [
    "hrefhealthgrades"
   ]
  },
  {
   "cell_type": "code",
   "execution_count": 12,
   "metadata": {},
   "outputs": [],
   "source": [
    "\n",
    "browser = webdriver.Chrome()\n",
    "browser.get(\"http://www.google.com\")\n",
    "searchform = browser.find_element_by_xpath('//*[@title=\"Search\"]')\n",
    "searchform.send_keys(f\"Dr {doctorname} Doximity\")\n",
    "searchform.submit()"
   ]
  },
  {
   "cell_type": "code",
   "execution_count": 3,
   "metadata": {},
   "outputs": [
    {
     "ename": "SessionNotCreatedException",
     "evalue": "Message: session not created: This version of ChromeDriver only supports Chrome version 74\n  (Driver info: chromedriver=74.0.3729.6 (255758eccf3d244491b8a1317aa76e1ce10d57e9-refs/branch-heads/3729@{#29}),platform=Mac OS X 10.13.6 x86_64)\n",
     "output_type": "error",
     "traceback": [
      "\u001b[0;31m---------------------------------------------------------------------------\u001b[0m",
      "\u001b[0;31mSessionNotCreatedException\u001b[0m                Traceback (most recent call last)",
      "\u001b[0;32m<ipython-input-3-7efb0ed91ed9>\u001b[0m in \u001b[0;36m<module>\u001b[0;34m\u001b[0m\n\u001b[0;32m----> 1\u001b[0;31m \u001b[0mbrowser\u001b[0m \u001b[0;34m=\u001b[0m \u001b[0mwebdriver\u001b[0m\u001b[0;34m.\u001b[0m\u001b[0mChrome\u001b[0m\u001b[0;34m(\u001b[0m\u001b[0;34m)\u001b[0m\u001b[0;34m\u001b[0m\u001b[0;34m\u001b[0m\u001b[0m\n\u001b[0m\u001b[1;32m      2\u001b[0m \u001b[0mbrowser\u001b[0m\u001b[0;34m.\u001b[0m\u001b[0mget\u001b[0m\u001b[0;34m(\u001b[0m\u001b[0;34m\"http://www.facebook.com\"\u001b[0m\u001b[0;34m)\u001b[0m\u001b[0;34m\u001b[0m\u001b[0;34m\u001b[0m\u001b[0m\n",
      "\u001b[0;32m~/anaconda3/lib/python3.7/site-packages/selenium/webdriver/chrome/webdriver.py\u001b[0m in \u001b[0;36m__init__\u001b[0;34m(self, executable_path, port, options, service_args, desired_capabilities, service_log_path, chrome_options, keep_alive)\u001b[0m\n\u001b[1;32m     79\u001b[0m                     \u001b[0mremote_server_addr\u001b[0m\u001b[0;34m=\u001b[0m\u001b[0mself\u001b[0m\u001b[0;34m.\u001b[0m\u001b[0mservice\u001b[0m\u001b[0;34m.\u001b[0m\u001b[0mservice_url\u001b[0m\u001b[0;34m,\u001b[0m\u001b[0;34m\u001b[0m\u001b[0;34m\u001b[0m\u001b[0m\n\u001b[1;32m     80\u001b[0m                     keep_alive=keep_alive),\n\u001b[0;32m---> 81\u001b[0;31m                 desired_capabilities=desired_capabilities)\n\u001b[0m\u001b[1;32m     82\u001b[0m         \u001b[0;32mexcept\u001b[0m \u001b[0mException\u001b[0m\u001b[0;34m:\u001b[0m\u001b[0;34m\u001b[0m\u001b[0;34m\u001b[0m\u001b[0m\n\u001b[1;32m     83\u001b[0m             \u001b[0mself\u001b[0m\u001b[0;34m.\u001b[0m\u001b[0mquit\u001b[0m\u001b[0;34m(\u001b[0m\u001b[0;34m)\u001b[0m\u001b[0;34m\u001b[0m\u001b[0;34m\u001b[0m\u001b[0m\n",
      "\u001b[0;32m~/anaconda3/lib/python3.7/site-packages/selenium/webdriver/remote/webdriver.py\u001b[0m in \u001b[0;36m__init__\u001b[0;34m(self, command_executor, desired_capabilities, browser_profile, proxy, keep_alive, file_detector, options)\u001b[0m\n\u001b[1;32m    155\u001b[0m             warnings.warn(\"Please use FirefoxOptions to set browser profile\",\n\u001b[1;32m    156\u001b[0m                           DeprecationWarning, stacklevel=2)\n\u001b[0;32m--> 157\u001b[0;31m         \u001b[0mself\u001b[0m\u001b[0;34m.\u001b[0m\u001b[0mstart_session\u001b[0m\u001b[0;34m(\u001b[0m\u001b[0mcapabilities\u001b[0m\u001b[0;34m,\u001b[0m \u001b[0mbrowser_profile\u001b[0m\u001b[0;34m)\u001b[0m\u001b[0;34m\u001b[0m\u001b[0;34m\u001b[0m\u001b[0m\n\u001b[0m\u001b[1;32m    158\u001b[0m         \u001b[0mself\u001b[0m\u001b[0;34m.\u001b[0m\u001b[0m_switch_to\u001b[0m \u001b[0;34m=\u001b[0m \u001b[0mSwitchTo\u001b[0m\u001b[0;34m(\u001b[0m\u001b[0mself\u001b[0m\u001b[0;34m)\u001b[0m\u001b[0;34m\u001b[0m\u001b[0;34m\u001b[0m\u001b[0m\n\u001b[1;32m    159\u001b[0m         \u001b[0mself\u001b[0m\u001b[0;34m.\u001b[0m\u001b[0m_mobile\u001b[0m \u001b[0;34m=\u001b[0m \u001b[0mMobile\u001b[0m\u001b[0;34m(\u001b[0m\u001b[0mself\u001b[0m\u001b[0;34m)\u001b[0m\u001b[0;34m\u001b[0m\u001b[0;34m\u001b[0m\u001b[0m\n",
      "\u001b[0;32m~/anaconda3/lib/python3.7/site-packages/selenium/webdriver/remote/webdriver.py\u001b[0m in \u001b[0;36mstart_session\u001b[0;34m(self, capabilities, browser_profile)\u001b[0m\n\u001b[1;32m    250\u001b[0m         parameters = {\"capabilities\": w3c_caps,\n\u001b[1;32m    251\u001b[0m                       \"desiredCapabilities\": capabilities}\n\u001b[0;32m--> 252\u001b[0;31m         \u001b[0mresponse\u001b[0m \u001b[0;34m=\u001b[0m \u001b[0mself\u001b[0m\u001b[0;34m.\u001b[0m\u001b[0mexecute\u001b[0m\u001b[0;34m(\u001b[0m\u001b[0mCommand\u001b[0m\u001b[0;34m.\u001b[0m\u001b[0mNEW_SESSION\u001b[0m\u001b[0;34m,\u001b[0m \u001b[0mparameters\u001b[0m\u001b[0;34m)\u001b[0m\u001b[0;34m\u001b[0m\u001b[0;34m\u001b[0m\u001b[0m\n\u001b[0m\u001b[1;32m    253\u001b[0m         \u001b[0;32mif\u001b[0m \u001b[0;34m'sessionId'\u001b[0m \u001b[0;32mnot\u001b[0m \u001b[0;32min\u001b[0m \u001b[0mresponse\u001b[0m\u001b[0;34m:\u001b[0m\u001b[0;34m\u001b[0m\u001b[0;34m\u001b[0m\u001b[0m\n\u001b[1;32m    254\u001b[0m             \u001b[0mresponse\u001b[0m \u001b[0;34m=\u001b[0m \u001b[0mresponse\u001b[0m\u001b[0;34m[\u001b[0m\u001b[0;34m'value'\u001b[0m\u001b[0;34m]\u001b[0m\u001b[0;34m\u001b[0m\u001b[0;34m\u001b[0m\u001b[0m\n",
      "\u001b[0;32m~/anaconda3/lib/python3.7/site-packages/selenium/webdriver/remote/webdriver.py\u001b[0m in \u001b[0;36mexecute\u001b[0;34m(self, driver_command, params)\u001b[0m\n\u001b[1;32m    319\u001b[0m         \u001b[0mresponse\u001b[0m \u001b[0;34m=\u001b[0m \u001b[0mself\u001b[0m\u001b[0;34m.\u001b[0m\u001b[0mcommand_executor\u001b[0m\u001b[0;34m.\u001b[0m\u001b[0mexecute\u001b[0m\u001b[0;34m(\u001b[0m\u001b[0mdriver_command\u001b[0m\u001b[0;34m,\u001b[0m \u001b[0mparams\u001b[0m\u001b[0;34m)\u001b[0m\u001b[0;34m\u001b[0m\u001b[0;34m\u001b[0m\u001b[0m\n\u001b[1;32m    320\u001b[0m         \u001b[0;32mif\u001b[0m \u001b[0mresponse\u001b[0m\u001b[0;34m:\u001b[0m\u001b[0;34m\u001b[0m\u001b[0;34m\u001b[0m\u001b[0m\n\u001b[0;32m--> 321\u001b[0;31m             \u001b[0mself\u001b[0m\u001b[0;34m.\u001b[0m\u001b[0merror_handler\u001b[0m\u001b[0;34m.\u001b[0m\u001b[0mcheck_response\u001b[0m\u001b[0;34m(\u001b[0m\u001b[0mresponse\u001b[0m\u001b[0;34m)\u001b[0m\u001b[0;34m\u001b[0m\u001b[0;34m\u001b[0m\u001b[0m\n\u001b[0m\u001b[1;32m    322\u001b[0m             response['value'] = self._unwrap_value(\n\u001b[1;32m    323\u001b[0m                 response.get('value', None))\n",
      "\u001b[0;32m~/anaconda3/lib/python3.7/site-packages/selenium/webdriver/remote/errorhandler.py\u001b[0m in \u001b[0;36mcheck_response\u001b[0;34m(self, response)\u001b[0m\n\u001b[1;32m    240\u001b[0m                 \u001b[0malert_text\u001b[0m \u001b[0;34m=\u001b[0m \u001b[0mvalue\u001b[0m\u001b[0;34m[\u001b[0m\u001b[0;34m'alert'\u001b[0m\u001b[0;34m]\u001b[0m\u001b[0;34m.\u001b[0m\u001b[0mget\u001b[0m\u001b[0;34m(\u001b[0m\u001b[0;34m'text'\u001b[0m\u001b[0;34m)\u001b[0m\u001b[0;34m\u001b[0m\u001b[0;34m\u001b[0m\u001b[0m\n\u001b[1;32m    241\u001b[0m             \u001b[0;32mraise\u001b[0m \u001b[0mexception_class\u001b[0m\u001b[0;34m(\u001b[0m\u001b[0mmessage\u001b[0m\u001b[0;34m,\u001b[0m \u001b[0mscreen\u001b[0m\u001b[0;34m,\u001b[0m \u001b[0mstacktrace\u001b[0m\u001b[0;34m,\u001b[0m \u001b[0malert_text\u001b[0m\u001b[0;34m)\u001b[0m\u001b[0;34m\u001b[0m\u001b[0;34m\u001b[0m\u001b[0m\n\u001b[0;32m--> 242\u001b[0;31m         \u001b[0;32mraise\u001b[0m \u001b[0mexception_class\u001b[0m\u001b[0;34m(\u001b[0m\u001b[0mmessage\u001b[0m\u001b[0;34m,\u001b[0m \u001b[0mscreen\u001b[0m\u001b[0;34m,\u001b[0m \u001b[0mstacktrace\u001b[0m\u001b[0;34m)\u001b[0m\u001b[0;34m\u001b[0m\u001b[0;34m\u001b[0m\u001b[0m\n\u001b[0m\u001b[1;32m    243\u001b[0m \u001b[0;34m\u001b[0m\u001b[0m\n\u001b[1;32m    244\u001b[0m     \u001b[0;32mdef\u001b[0m \u001b[0m_value_or_default\u001b[0m\u001b[0;34m(\u001b[0m\u001b[0mself\u001b[0m\u001b[0;34m,\u001b[0m \u001b[0mobj\u001b[0m\u001b[0;34m,\u001b[0m \u001b[0mkey\u001b[0m\u001b[0;34m,\u001b[0m \u001b[0mdefault\u001b[0m\u001b[0;34m)\u001b[0m\u001b[0;34m:\u001b[0m\u001b[0;34m\u001b[0m\u001b[0;34m\u001b[0m\u001b[0m\n",
      "\u001b[0;31mSessionNotCreatedException\u001b[0m: Message: session not created: This version of ChromeDriver only supports Chrome version 74\n  (Driver info: chromedriver=74.0.3729.6 (255758eccf3d244491b8a1317aa76e1ce10d57e9-refs/branch-heads/3729@{#29}),platform=Mac OS X 10.13.6 x86_64)\n"
     ]
    }
   ],
   "source": [
    "search_form = browser.find_element_by_id('search_form_input_homepage')\n",
    "search_form.send_keys('real python')\n",
    "search_form.submit()\n",
    "elem = driver.find_element_by_id(\"email\")\n",
    "elem.send_keys(user)\n",
    "elem = driver.find_element_by_id(\"pass\")\n",
    "elem.send_keys(pwd)\n",
    "elem.send_keys(Keys.RETURN)\n",
    "driver.close()"
   ]
  },
  {
   "cell_type": "code",
   "execution_count": 1,
   "metadata": {},
   "outputs": [
    {
     "name": "stdout",
     "output_type": "stream",
     "text": [
      "Enter number of doctors : 5\n",
      "Galina Simkin\n",
      "Adam Simmons\n",
      "Gloria Simms\n",
      "Virginia Simnad\n",
      "Christopher Simon\n",
      "['Galina Simkin', 'Adam Simmons', 'Gloria Simms', 'Virginia Simnad', 'Christopher Simon']\n"
     ]
    }
   ],
   "source": [
    "# creating an empty list \n",
    "doctorlist = [] \n",
    "  \n",
    "# number of elemetns as input \n",
    "n = int(input(\"Enter number of doctors : \")) \n",
    "  \n",
    "# iterating till the range \n",
    "for i in range(0, n): \n",
    "    name = str(input()) \n",
    "  \n",
    "    doctorlist.append(name) # adding the element \n",
    "      \n",
    "print(doctorlist) "
   ]
  },
  {
   "cell_type": "code",
   "execution_count": null,
   "metadata": {},
   "outputs": [],
   "source": []
  }
 ],
 "metadata": {
  "kernelspec": {
   "display_name": "Python 3",
   "language": "python",
   "name": "python3"
  },
  "language_info": {
   "codemirror_mode": {
    "name": "ipython",
    "version": 3
   },
   "file_extension": ".py",
   "mimetype": "text/x-python",
   "name": "python",
   "nbconvert_exporter": "python",
   "pygments_lexer": "ipython3",
   "version": "3.7.2"
  }
 },
 "nbformat": 4,
 "nbformat_minor": 2
}
